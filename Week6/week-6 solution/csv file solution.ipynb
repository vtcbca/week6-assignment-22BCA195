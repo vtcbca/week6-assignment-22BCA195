{
 "cells": [
  {
   "cell_type": "markdown",
   "id": "c455b7aa",
   "metadata": {},
   "source": [
    "# 1. Create a result table which contain student id, student name and 5 subject marks. "
   ]
  },
  {
   "cell_type": "code",
   "execution_count": 1,
   "id": "90249f7b",
   "metadata": {},
   "outputs": [],
   "source": [
    "import sqlite3 as sq\n",
    "con=sq.connect(\"RESULT.db\")\n",
    "cur=con.cursor()"
   ]
  },
  {
   "cell_type": "code",
   "execution_count": 2,
   "id": "3a09d924",
   "metadata": {},
   "outputs": [],
   "source": [
    "table='''Create table if not exists result\n",
    "        (\n",
    "            sid int primary key,\n",
    "            sname text NOT NULL,\n",
    "            mark1 int,\n",
    "            mark2 int,\n",
    "            mark3 int,\n",
    "            mark4 int,\n",
    "            mark5 int\n",
    "        )'''"
   ]
  },
  {
   "cell_type": "code",
   "execution_count": 3,
   "id": "f6810145",
   "metadata": {},
   "outputs": [
    {
     "data": {
      "text/plain": [
       "<sqlite3.Cursor at 0x21a068746c0>"
      ]
     },
     "execution_count": 3,
     "metadata": {},
     "output_type": "execute_result"
    }
   ],
   "source": [
    "cur.execute(table)"
   ]
  },
  {
   "cell_type": "markdown",
   "id": "f583ec5d",
   "metadata": {},
   "source": [
    "# 2. Enter 10 studnet details with its marks."
   ]
  },
  {
   "cell_type": "code",
   "execution_count": 4,
   "id": "64df7007",
   "metadata": {},
   "outputs": [],
   "source": [
    "insert2=\"insert into result values(?,?,?,?,?,?,?)\""
   ]
  },
  {
   "cell_type": "code",
   "execution_count": 5,
   "id": "48e67667",
   "metadata": {},
   "outputs": [],
   "source": [
    "l=[]"
   ]
  },
  {
   "cell_type": "code",
   "execution_count": 6,
   "id": "a470b0c9",
   "metadata": {},
   "outputs": [
    {
     "name": "stdout",
     "output_type": "stream",
     "text": [
      "Enter student id of student 1: 1\n",
      "Enter student Name of student 1 :om\n",
      "Enter marks of subject 1 of student 1 :87\n",
      "Enter marks of subject  2 of student 1 :67\n",
      "Enter marks of subject  3 of student 1 :89\n",
      "Enter marks of subject 4 of student 1 :76\n",
      "Enter marks of subject  5 of student 1 :76\n",
      "Enter student id of student 2: 2\n",
      "Enter student Name of student 2 :sai\n",
      "Enter marks of subject 1 of student 2 :89\n",
      "Enter marks of subject  2 of student 2 :76\n",
      "Enter marks of subject  3 of student 2 :56\n",
      "Enter marks of subject 4 of student 2 :76\n",
      "Enter marks of subject  5 of student 2 :56\n",
      "Enter student id of student 3: 3\n",
      "Enter student Name of student 3 :ram\n",
      "Enter marks of subject 1 of student 3 :87\n",
      "Enter marks of subject  2 of student 3 :81\n",
      "Enter marks of subject  3 of student 3 :75\n",
      "Enter marks of subject 4 of student 3 :70\n",
      "Enter marks of subject  5 of student 3 :82\n",
      "Enter student id of student 4: 4\n",
      "Enter student Name of student 4 :radha\n",
      "Enter marks of subject 1 of student 4 :67\n",
      "Enter marks of subject  2 of student 4 :70\n",
      "Enter marks of subject  3 of student 4 :80\n",
      "Enter marks of subject 4 of student 4 :76\n",
      "Enter marks of subject  5 of student 4 :51\n",
      "Enter student id of student 5: 5\n",
      "Enter student Name of student 5 :shyam\n",
      "Enter marks of subject 1 of student 5 :91\n",
      "Enter marks of subject  2 of student 5 :71\n",
      "Enter marks of subject  3 of student 5 :73\n",
      "Enter marks of subject 4 of student 5 :85\n",
      "Enter marks of subject  5 of student 5 :76\n",
      "Enter student id of student 6: 6\n",
      "Enter student Name of student 6 :gopal\n",
      "Enter marks of subject 1 of student 6 :67\n",
      "Enter marks of subject  2 of student 6 :71\n",
      "Enter marks of subject  3 of student 6 :68\n",
      "Enter marks of subject 4 of student 6 :69\n",
      "Enter marks of subject  5 of student 6 :79\n",
      "Enter student id of student 7: 7\n",
      "Enter student Name of student 7 :shiv\n",
      "Enter marks of subject 1 of student 7 :78\n",
      "Enter marks of subject  2 of student 7 :88\n",
      "Enter marks of subject  3 of student 7 :67\n",
      "Enter marks of subject 4 of student 7 :90\n",
      "Enter marks of subject  5 of student 7 :71\n",
      "Enter student id of student 8: 8\n",
      "Enter student Name of student 8 :kishan\n",
      "Enter marks of subject 1 of student 8 :66\n",
      "Enter marks of subject  2 of student 8 :51\n",
      "Enter marks of subject  3 of student 8 :43\n",
      "Enter marks of subject 4 of student 8 :67\n",
      "Enter marks of subject  5 of student 8 :80\n",
      "Enter student id of student 9: 9\n",
      "Enter student Name of student 9 :hari\n",
      "Enter marks of subject 1 of student 9 :78\n",
      "Enter marks of subject  2 of student 9 :87\n",
      "Enter marks of subject  3 of student 9 :65\n",
      "Enter marks of subject 4 of student 9 :67\n",
      "Enter marks of subject  5 of student 9 :56\n",
      "Enter student id of student 10: 10\n",
      "Enter student Name of student 10 :vijay\n",
      "Enter marks of subject 1 of student 10 :78\n",
      "Enter marks of subject  2 of student 10 :61\n",
      "Enter marks of subject  3 of student 10 :42\n",
      "Enter marks of subject 4 of student 10 :78\n",
      "Enter marks of subject  5 of student 10 :89\n"
     ]
    }
   ],
   "source": [
    "for i in range(10):\n",
    "    sid=int(input(f\"Enter student id of student {i+1}: \"))\n",
    "    sname=input(f\"Enter student Name of student {i+1} :\")\n",
    "    mark1=int(input(f\"Enter marks of subject 1 of student {i+1} :\"))\n",
    "    mark2=int(input(f\"Enter marks of subject  2 of student {i+1} :\"))\n",
    "    mark3=int(input(f\"Enter marks of subject  3 of student {i+1} :\"))\n",
    "    mark4=int(input(f\"Enter marks of subject 4 of student {i+1} :\"))\n",
    "    mark5=int(input(f\"Enter marks of subject  5 of student {i+1} :\"))\n",
    "    t=(sid,sname,mark1,mark2,mark3,mark4,mark5)\n",
    "    l.append(t)"
   ]
  },
  {
   "cell_type": "markdown",
   "id": "cfadbaa7",
   "metadata": {},
   "source": [
    "# 3. Dump table into csv file \"result.csv\""
   ]
  },
  {
   "cell_type": "code",
   "execution_count": 7,
   "id": "b5474fbb",
   "metadata": {},
   "outputs": [],
   "source": [
    "import csv"
   ]
  },
  {
   "cell_type": "code",
   "execution_count": 8,
   "id": "c781f25b",
   "metadata": {},
   "outputs": [],
   "source": [
    "header=['STUDENT_ID','STUDENT_NAME','SUBJECT_1','SUBJECT_2','SUBJECT_3','SUBJECT_4','SUBJECT_5']"
   ]
  },
  {
   "cell_type": "code",
   "execution_count": 9,
   "id": "cc6dd3c1",
   "metadata": {},
   "outputs": [],
   "source": [
    "with open('reslult_tbl.csv','w',newline=\"\") as csvfile:\n",
    "    writer_obj=csv.writer(csvfile)\n",
    "    writer_obj.writerow(header)\n",
    "    writer_obj.writerows(l)"
   ]
  },
  {
   "cell_type": "markdown",
   "id": "3b9cabf7",
   "metadata": {},
   "source": [
    "# 4. Read result.csv file and Print Total Marks and Grade of each student. Also Append Total Marks and Grade column into result.csv file."
   ]
  },
  {
   "cell_type": "code",
   "execution_count": 10,
   "id": "dd0977de",
   "metadata": {},
   "outputs": [
    {
     "name": "stdout",
     "output_type": "stream",
     "text": [
      "[{'STUDENT_ID': '1', 'STUDENT_NAME': 'om', 'SUBJECT_1': '87', 'SUBJECT_2': '67', 'SUBJECT_3': '89', 'SUBJECT_4': '76', 'SUBJECT_5': '76'}, {'STUDENT_ID': '2', 'STUDENT_NAME': 'sai', 'SUBJECT_1': '89', 'SUBJECT_2': '76', 'SUBJECT_3': '56', 'SUBJECT_4': '76', 'SUBJECT_5': '56'}, {'STUDENT_ID': '3', 'STUDENT_NAME': 'ram', 'SUBJECT_1': '87', 'SUBJECT_2': '81', 'SUBJECT_3': '75', 'SUBJECT_4': '70', 'SUBJECT_5': '82'}, {'STUDENT_ID': '4', 'STUDENT_NAME': 'radha', 'SUBJECT_1': '67', 'SUBJECT_2': '70', 'SUBJECT_3': '80', 'SUBJECT_4': '76', 'SUBJECT_5': '51'}, {'STUDENT_ID': '5', 'STUDENT_NAME': 'shyam', 'SUBJECT_1': '91', 'SUBJECT_2': '71', 'SUBJECT_3': '73', 'SUBJECT_4': '85', 'SUBJECT_5': '76'}, {'STUDENT_ID': '6', 'STUDENT_NAME': 'gopal', 'SUBJECT_1': '67', 'SUBJECT_2': '71', 'SUBJECT_3': '68', 'SUBJECT_4': '69', 'SUBJECT_5': '79'}, {'STUDENT_ID': '7', 'STUDENT_NAME': 'shiv', 'SUBJECT_1': '78', 'SUBJECT_2': '88', 'SUBJECT_3': '67', 'SUBJECT_4': '90', 'SUBJECT_5': '71'}, {'STUDENT_ID': '8', 'STUDENT_NAME': 'kishan', 'SUBJECT_1': '66', 'SUBJECT_2': '51', 'SUBJECT_3': '43', 'SUBJECT_4': '67', 'SUBJECT_5': '80'}, {'STUDENT_ID': '9', 'STUDENT_NAME': 'hari', 'SUBJECT_1': '78', 'SUBJECT_2': '87', 'SUBJECT_3': '65', 'SUBJECT_4': '67', 'SUBJECT_5': '56'}, {'STUDENT_ID': '10', 'STUDENT_NAME': 'vijay', 'SUBJECT_1': '78', 'SUBJECT_2': '61', 'SUBJECT_3': '42', 'SUBJECT_4': '78', 'SUBJECT_5': '89'}]\n",
      "\n",
      "\n"
     ]
    }
   ],
   "source": [
    "COLUMNS=[]\n",
    "with open('reslult_tbl.csv','r',newline=\"\") as read_csv:\n",
    "    read_obj=csv.DictReader(read_csv)\n",
    "    COLUMNS=list(read_obj)\n",
    "    print(COLUMNS)\n",
    "    print('\\n')"
   ]
  },
  {
   "cell_type": "code",
   "execution_count": 13,
   "id": "10d302b8",
   "metadata": {},
   "outputs": [],
   "source": [
    "with open('reslult_tbl.csv','w',newline=\"\") as csvfile:\n",
    "    header=['STUDENT_ID','STUDENT_NAME','SUBJECT_1','SUBJECT_2','SUBJECT_3','SUBJECT_4',\n",
    "            'SUBJECT_5','total_marks','grade']\n",
    "    write_obj=csv.DictWriter(csvfile,fieldnames=header)\n",
    "    write_obj.writeheader()\n",
    "    write_obj.writerows(COLUMNS)\n",
    "    "
   ]
  },
  {
   "cell_type": "code",
   "execution_count": null,
   "id": "3fead53d",
   "metadata": {},
   "outputs": [],
   "source": [
    "for row in COLUMNS:\n",
    "    total_marks=sum(int(row[f'SUBJECT_{i}'])\n",
    "for j in range(1,6))\n",
    "    percentage=total_marks/5\n",
    "    if percentage>=90:\n",
    "        grade='A'\n",
    "    elif percentage>=80 and percentage<=90:\n",
    "        grade='B'\n",
    "    elif percentage>=70 and percentage<=80:\n",
    "        grade='C'\n",
    "    elif percentage>=60 and percentage<=70:\n",
    "        grade='D'\n",
    "    elif percentage>=50 and percentage<=33:\n",
    "        grade='E'\n",
    "    else:\n",
    "        grade='F'\n",
    "row['total_marks']=total_marks\n",
    "row['grade']=grade"
   ]
  },
  {
   "cell_type": "markdown",
   "id": "d012d11d",
   "metadata": {},
   "source": [
    "# 5. List out Top 3 Student id and name with its percentage."
   ]
  },
  {
   "cell_type": "code",
   "execution_count": 15,
   "id": "51f9e4d0",
   "metadata": {},
   "outputs": [
    {
     "name": "stdout",
     "output_type": "stream",
     "text": [
      " Student_ID      Student_Name       Percentage   \n",
      "-----------------------------------------------------\n",
      "     1                om                          \n",
      "     2               sai                          \n",
      "     3               ram                          \n"
     ]
    }
   ],
   "source": [
    "with open('reslult_tbl.csv', 'r', newline='') as file2:\n",
    "    head = next(file2)\n",
    "    header = \"{:^12} {:^20} {:^15}\\n-----------------------------------------------------\".format('Student_ID', 'Student_Name', 'Percentage')\n",
    "    print(header)\n",
    "    d = csv.reader(file2)\n",
    "    d = sorted(d, key=lambda stud: stud[8], reverse=True)\n",
    "    c=0\n",
    "    # Iterate through the sorted data and print each record\n",
    "    for i in d:\n",
    "        record_line = \"{:^12} {:^20} {:^15} \".format(i[0], i[1], i[8])\n",
    "        print(record_line)\n",
    "        c+=1\n",
    "        if c==3:\n",
    "            break"
   ]
  },
  {
   "cell_type": "code",
   "execution_count": null,
   "id": "8d2c7c13",
   "metadata": {},
   "outputs": [],
   "source": []
  }
 ],
 "metadata": {
  "kernelspec": {
   "display_name": "Python 3 (ipykernel)",
   "language": "python",
   "name": "python3"
  },
  "language_info": {
   "codemirror_mode": {
    "name": "ipython",
    "version": 3
   },
   "file_extension": ".py",
   "mimetype": "text/x-python",
   "name": "python",
   "nbconvert_exporter": "python",
   "pygments_lexer": "ipython3",
   "version": "3.10.10"
  }
 },
 "nbformat": 4,
 "nbformat_minor": 5
}
